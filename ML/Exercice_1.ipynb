{
 "cells": [
  {
   "cell_type": "markdown",
   "id": "f9dc0589",
   "metadata": {},
   "source": [
    "# Introduction to Machine Learning – Titanic Dataset\n",
    "\n",
    "This notebook introduces basic supervised learning with:\n",
    "- Preprocessing (missing values, encoding)\n",
    "- Feature scaling\n",
    "- Pipeline creation with Scikit-learn\n",
    "- Model training & evaluation\n",
    "- Model saving and serving with FastAPI"
   ]
  },
  {
   "cell_type": "code",
   "id": "bddb9988",
   "metadata": {
    "ExecuteTime": {
     "end_time": "2025-07-01T12:42:54.610163Z",
     "start_time": "2025-07-01T12:42:54.602557Z"
    }
   },
   "source": [
    "# 📦 Imports\n",
    "import pandas as pd\n",
    "import numpy as np\n",
    "from sklearn.model_selection import train_test_split\n",
    "from sklearn.preprocessing import StandardScaler, OneHotEncoder\n",
    "from sklearn.compose import ColumnTransformer\n",
    "from sklearn.pipeline import Pipeline\n",
    "from sklearn.impute import SimpleImputer\n",
    "from sklearn.linear_model import LogisticRegression\n",
    "from sklearn.metrics import classification_report\n",
    "import joblib"
   ],
   "outputs": [],
   "execution_count": 2
  },
  {
   "cell_type": "code",
   "id": "628c2bcf",
   "metadata": {
    "ExecuteTime": {
     "end_time": "2025-07-01T12:42:55.126474Z",
     "start_time": "2025-07-01T12:42:54.776344Z"
    }
   },
   "source": [
    "# 📥 Load Titanic Dataset\n",
    "url = \"https://raw.githubusercontent.com/datasciencedojo/datasets/master/titanic.csv\"\n",
    "df = pd.read_csv(url)\n",
    "df.head()"
   ],
   "outputs": [
    {
     "data": {
      "text/plain": [
       "   PassengerId  Survived  Pclass  \\\n",
       "0            1         0       3   \n",
       "1            2         1       1   \n",
       "2            3         1       3   \n",
       "3            4         1       1   \n",
       "4            5         0       3   \n",
       "\n",
       "                                                Name     Sex   Age  SibSp  \\\n",
       "0                            Braund, Mr. Owen Harris    male  22.0      1   \n",
       "1  Cumings, Mrs. John Bradley (Florence Briggs Th...  female  38.0      1   \n",
       "2                             Heikkinen, Miss. Laina  female  26.0      0   \n",
       "3       Futrelle, Mrs. Jacques Heath (Lily May Peel)  female  35.0      1   \n",
       "4                           Allen, Mr. William Henry    male  35.0      0   \n",
       "\n",
       "   Parch            Ticket     Fare Cabin Embarked  \n",
       "0      0         A/5 21171   7.2500   NaN        S  \n",
       "1      0          PC 17599  71.2833   C85        C  \n",
       "2      0  STON/O2. 3101282   7.9250   NaN        S  \n",
       "3      0            113803  53.1000  C123        S  \n",
       "4      0            373450   8.0500   NaN        S  "
      ],
      "text/html": [
       "<div>\n",
       "<style scoped>\n",
       "    .dataframe tbody tr th:only-of-type {\n",
       "        vertical-align: middle;\n",
       "    }\n",
       "\n",
       "    .dataframe tbody tr th {\n",
       "        vertical-align: top;\n",
       "    }\n",
       "\n",
       "    .dataframe thead th {\n",
       "        text-align: right;\n",
       "    }\n",
       "</style>\n",
       "<table border=\"1\" class=\"dataframe\">\n",
       "  <thead>\n",
       "    <tr style=\"text-align: right;\">\n",
       "      <th></th>\n",
       "      <th>PassengerId</th>\n",
       "      <th>Survived</th>\n",
       "      <th>Pclass</th>\n",
       "      <th>Name</th>\n",
       "      <th>Sex</th>\n",
       "      <th>Age</th>\n",
       "      <th>SibSp</th>\n",
       "      <th>Parch</th>\n",
       "      <th>Ticket</th>\n",
       "      <th>Fare</th>\n",
       "      <th>Cabin</th>\n",
       "      <th>Embarked</th>\n",
       "    </tr>\n",
       "  </thead>\n",
       "  <tbody>\n",
       "    <tr>\n",
       "      <th>0</th>\n",
       "      <td>1</td>\n",
       "      <td>0</td>\n",
       "      <td>3</td>\n",
       "      <td>Braund, Mr. Owen Harris</td>\n",
       "      <td>male</td>\n",
       "      <td>22.0</td>\n",
       "      <td>1</td>\n",
       "      <td>0</td>\n",
       "      <td>A/5 21171</td>\n",
       "      <td>7.2500</td>\n",
       "      <td>NaN</td>\n",
       "      <td>S</td>\n",
       "    </tr>\n",
       "    <tr>\n",
       "      <th>1</th>\n",
       "      <td>2</td>\n",
       "      <td>1</td>\n",
       "      <td>1</td>\n",
       "      <td>Cumings, Mrs. John Bradley (Florence Briggs Th...</td>\n",
       "      <td>female</td>\n",
       "      <td>38.0</td>\n",
       "      <td>1</td>\n",
       "      <td>0</td>\n",
       "      <td>PC 17599</td>\n",
       "      <td>71.2833</td>\n",
       "      <td>C85</td>\n",
       "      <td>C</td>\n",
       "    </tr>\n",
       "    <tr>\n",
       "      <th>2</th>\n",
       "      <td>3</td>\n",
       "      <td>1</td>\n",
       "      <td>3</td>\n",
       "      <td>Heikkinen, Miss. Laina</td>\n",
       "      <td>female</td>\n",
       "      <td>26.0</td>\n",
       "      <td>0</td>\n",
       "      <td>0</td>\n",
       "      <td>STON/O2. 3101282</td>\n",
       "      <td>7.9250</td>\n",
       "      <td>NaN</td>\n",
       "      <td>S</td>\n",
       "    </tr>\n",
       "    <tr>\n",
       "      <th>3</th>\n",
       "      <td>4</td>\n",
       "      <td>1</td>\n",
       "      <td>1</td>\n",
       "      <td>Futrelle, Mrs. Jacques Heath (Lily May Peel)</td>\n",
       "      <td>female</td>\n",
       "      <td>35.0</td>\n",
       "      <td>1</td>\n",
       "      <td>0</td>\n",
       "      <td>113803</td>\n",
       "      <td>53.1000</td>\n",
       "      <td>C123</td>\n",
       "      <td>S</td>\n",
       "    </tr>\n",
       "    <tr>\n",
       "      <th>4</th>\n",
       "      <td>5</td>\n",
       "      <td>0</td>\n",
       "      <td>3</td>\n",
       "      <td>Allen, Mr. William Henry</td>\n",
       "      <td>male</td>\n",
       "      <td>35.0</td>\n",
       "      <td>0</td>\n",
       "      <td>0</td>\n",
       "      <td>373450</td>\n",
       "      <td>8.0500</td>\n",
       "      <td>NaN</td>\n",
       "      <td>S</td>\n",
       "    </tr>\n",
       "  </tbody>\n",
       "</table>\n",
       "</div>"
      ]
     },
     "execution_count": 3,
     "metadata": {},
     "output_type": "execute_result"
    }
   ],
   "execution_count": 3
  },
  {
   "cell_type": "code",
   "id": "467288a2",
   "metadata": {
    "ExecuteTime": {
     "end_time": "2025-07-01T12:42:55.148713Z",
     "start_time": "2025-07-01T12:42:55.131705Z"
    }
   },
   "source": [
    "# 🧹 Select Features and Target\n",
    "features = ['Pclass', 'Sex', 'Age', 'Fare', 'Embarked']\n",
    "target = 'Survived'\n",
    "\n",
    "X = df[features]\n",
    "y = df[target]"
   ],
   "outputs": [],
   "execution_count": 4
  },
  {
   "cell_type": "code",
   "id": "184e2f94",
   "metadata": {
    "ExecuteTime": {
     "end_time": "2025-07-01T12:42:55.159263Z",
     "start_time": "2025-07-01T12:42:55.150826Z"
    }
   },
   "source": [
    "# 🔧 Define Preprocessing Pipeline\n",
    "numeric_features = ['Age', 'Fare']\n",
    "numeric_transformer = Pipeline([\n",
    "    ('imputer', SimpleImputer(strategy='median')),\n",
    "    ('scaler', StandardScaler())\n",
    "])\n",
    "\n",
    "categorical_features = ['Pclass', 'Sex', 'Embarked']\n",
    "categorical_transformer = Pipeline([\n",
    "    ('imputer', SimpleImputer(strategy='most_frequent')),\n",
    "    ('encoder', OneHotEncoder(handle_unknown='ignore'))\n",
    "])\n",
    "\n",
    "preprocessor = ColumnTransformer([\n",
    "    ('num', numeric_transformer, numeric_features),\n",
    "    ('cat', categorical_transformer, categorical_features)\n",
    "])"
   ],
   "outputs": [],
   "execution_count": 5
  },
  {
   "cell_type": "code",
   "id": "7452379a",
   "metadata": {
    "ExecuteTime": {
     "end_time": "2025-07-01T12:42:55.240508Z",
     "start_time": "2025-07-01T12:42:55.165329Z"
    }
   },
   "source": [
    "# 🔁 Full Pipeline with Model\n",
    "clf_pipeline = Pipeline([\n",
    "    ('preprocessing', preprocessor),\n",
    "    ('classifier', LogisticRegression(max_iter=1000))\n",
    "])\n",
    "\n",
    "# Split the data\n",
    "X_train, X_test, y_train, y_test = train_test_split(X, y, test_size=0.2, random_state=42)\n",
    "\n",
    "# Train the model\n",
    "clf_pipeline.fit(X_train, y_train)\n",
    "\n",
    "# Evaluate\n",
    "y_pred = clf_pipeline.predict(X_test)\n",
    "print(classification_report(y_test, y_pred))"
   ],
   "outputs": [
    {
     "name": "stdout",
     "output_type": "stream",
     "text": [
      "              precision    recall  f1-score   support\n",
      "\n",
      "           0       0.81      0.84      0.82       105\n",
      "           1       0.76      0.72      0.74        74\n",
      "\n",
      "    accuracy                           0.79       179\n",
      "   macro avg       0.78      0.78      0.78       179\n",
      "weighted avg       0.79      0.79      0.79       179\n",
      "\n"
     ]
    }
   ],
   "execution_count": 6
  },
  {
   "cell_type": "markdown",
   "id": "c13b6dd7",
   "metadata": {},
   "source": [
    "## Save the Trained Pipeline"
   ]
  },
  {
   "cell_type": "code",
   "id": "d0fe50c6",
   "metadata": {
    "ExecuteTime": {
     "end_time": "2025-07-01T12:42:55.260378Z",
     "start_time": "2025-07-01T12:42:55.242527Z"
    }
   },
   "source": [
    "joblib.dump(clf_pipeline, \"titanic_pipeline.pkl\")"
   ],
   "outputs": [
    {
     "data": {
      "text/plain": [
       "['titanic_pipeline.pkl']"
      ]
     },
     "execution_count": 7,
     "metadata": {},
     "output_type": "execute_result"
    }
   ],
   "execution_count": 7
  },
  {
   "cell_type": "markdown",
   "id": "6c0bc0e4",
   "metadata": {},
   "source": [
    "## Exercise 1: Try a Different Classifier\n",
    "Replace the logistic regression model in the pipeline with another classifier, such as `RandomForestClassifier`, and compare the results.\n",
    "\n",
    "```python\n",
    "from sklearn.ensemble import RandomForestClassifier\n",
    "# Replace the classifier in clf_pipeline\n",
    "```\n",
    "\n",
    "*What changes do you observe in precision and recall?*"
   ]
  },
  {
   "cell_type": "code",
   "id": "6b37745e",
   "metadata": {
    "ExecuteTime": {
     "end_time": "2025-07-01T12:42:56.938624Z",
     "start_time": "2025-07-01T12:42:55.263627Z"
    }
   },
   "source": [
    "from sklearn.ensemble import RandomForestClassifier\n",
    "\n",
    "clf_pipeline = Pipeline([\n",
    "    ('preprocessing', preprocessor),\n",
    "    ('classifier', RandomForestClassifier(n_estimators=100, random_state=42))\n",
    "])\n",
    "\n",
    "clf_pipeline.fit(X_train, y_train)\n",
    "y_pred = clf_pipeline.predict(X_test)\n",
    "print(classification_report(y_test, y_pred))\n"
   ],
   "outputs": [
    {
     "name": "stdout",
     "output_type": "stream",
     "text": [
      "              precision    recall  f1-score   support\n",
      "\n",
      "           0       0.82      0.80      0.81       105\n",
      "           1       0.73      0.76      0.74        74\n",
      "\n",
      "    accuracy                           0.78       179\n",
      "   macro avg       0.78      0.78      0.78       179\n",
      "weighted avg       0.78      0.78      0.78       179\n",
      "\n"
     ]
    }
   ],
   "execution_count": 8
  },
  {
   "cell_type": "markdown",
   "id": "e482c4f2",
   "metadata": {},
   "source": [
    "## Exercise 2: Use Cross-Validation\n",
    "Apply cross-validation on the pipeline instead of a single train/test split.\n",
    "\n",
    "```python\n",
    "from sklearn.model_selection import cross_val_score\n",
    "```\n",
    "\n",
    "*Is the model stable across folds?*"
   ]
  },
  {
   "cell_type": "code",
   "id": "a05a2a73",
   "metadata": {
    "ExecuteTime": {
     "end_time": "2025-07-01T12:42:58.749406Z",
     "start_time": "2025-07-01T12:42:56.942979Z"
    }
   },
   "source": [
    "from sklearn.model_selection import cross_val_score\n",
    "\n",
    "scores = cross_val_score(clf_pipeline, X, y, cv=5, scoring='accuracy')\n",
    "print(\"Accuracy scores for each fold:\", scores)\n",
    "print(\"Mean accuracy:\", scores.mean())\n"
   ],
   "outputs": [
    {
     "name": "stdout",
     "output_type": "stream",
     "text": [
      "Accuracy scores for each fold: [0.78212291 0.80337079 0.84269663 0.79213483 0.82022472]\n",
      "Mean accuracy: 0.8081099742640134\n"
     ]
    }
   ],
   "execution_count": 9
  },
  {
   "cell_type": "markdown",
   "id": "3e156e8c",
   "metadata": {},
   "source": [
    "## Exercise 3: Add Feature Engineering\n",
    "Add a new column to the Titanic data, such as `FamilySize = SibSp + Parch`, and evaluate if this feature improves the model.\n",
    "\n",
    "```python\n",
    "df['FamilySize'] = df['SibSp'] + df['Parch']\n",
    "# Then include it in the feature list and re-run the pipeline\n",
    "```\n",
    "\n",
    "*Does the new feature improve the prediction metrics?*"
   ]
  },
  {
   "cell_type": "code",
   "id": "e78d0900",
   "metadata": {
    "ExecuteTime": {
     "end_time": "2025-07-01T12:42:58.762693Z",
     "start_time": "2025-07-01T12:42:58.751510Z"
    }
   },
   "source": [
    "df['FamilySize'] = df['SibSp'] + df['Parch']\n",
    "features = ['Pclass', 'Sex', 'Age', 'Fare', 'Embarked', 'FamilySize']\n",
    "X = df[features]\n",
    "y = df['Survived']\n",
    "numeric_features = ['Age', 'Fare', 'FamilySize']\n",
    "categorical_features = ['Pclass', 'Sex', 'Embarked']\n"
   ],
   "outputs": [],
   "execution_count": 10
  },
  {
   "cell_type": "code",
   "id": "9d9a6a9d",
   "metadata": {
    "ExecuteTime": {
     "end_time": "2025-07-01T12:42:58.898617Z",
     "start_time": "2025-07-01T12:42:58.765967Z"
    }
   },
   "source": [
    "# ✅ Étape 4 : Créer les transformers\n",
    "from sklearn.pipeline import Pipeline\n",
    "from sklearn.compose import ColumnTransformer\n",
    "from sklearn.impute import SimpleImputer\n",
    "from sklearn.preprocessing import StandardScaler, OneHotEncoder\n",
    "\n",
    "numeric_transformer = Pipeline([\n",
    "    ('imputer', SimpleImputer(strategy='median')),\n",
    "    ('scaler', StandardScaler())\n",
    "])\n",
    "\n",
    "categorical_transformer = Pipeline([\n",
    "    ('imputer', SimpleImputer(strategy='most_frequent')),\n",
    "    ('encoder', OneHotEncoder(handle_unknown='ignore'))\n",
    "])\n",
    "\n",
    "preprocessor = ColumnTransformer([\n",
    "    ('num', numeric_transformer, numeric_features),\n",
    "    ('cat', categorical_transformer, categorical_features)\n",
    "])\n",
    "\n",
    "# ✅ Étape 5 : Créer le pipeline complet avec un modèle\n",
    "from sklearn.linear_model import LogisticRegression\n",
    "from sklearn.model_selection import train_test_split\n",
    "from sklearn.metrics import classification_report\n",
    "\n",
    "clf_pipeline = Pipeline([\n",
    "    ('preprocessing', preprocessor),\n",
    "    ('classifier', LogisticRegression(max_iter=1000))\n",
    "])\n",
    "\n",
    "# ✅ Étape 6 : Split, fit, predict, évaluation\n",
    "X_train, X_test, y_train, y_test = train_test_split(X, y, test_size=0.2, random_state=42)\n",
    "\n",
    "clf_pipeline.fit(X_train, y_train)\n",
    "y_pred = clf_pipeline.predict(X_test)\n",
    "\n",
    "print(classification_report(y_test, y_pred))"
   ],
   "outputs": [
    {
     "name": "stdout",
     "output_type": "stream",
     "text": [
      "              precision    recall  f1-score   support\n",
      "\n",
      "           0       0.81      0.86      0.83       105\n",
      "           1       0.78      0.72      0.75        74\n",
      "\n",
      "    accuracy                           0.80       179\n",
      "   macro avg       0.80      0.79      0.79       179\n",
      "weighted avg       0.80      0.80      0.80       179\n",
      "\n"
     ]
    }
   ],
   "execution_count": 11
  },
  {
   "cell_type": "markdown",
   "id": "a0ecf45a",
   "metadata": {},
   "source": [
    "## Exercise 4 (Bonus): Create a Streamlit Interface\n",
    "Build a simple Streamlit UI to load the trained model and predict survival based on user input.\n",
    "\n",
    "```python\n",
    "# Example streamlit interface\n",
    "import streamlit as st\n",
    "import joblib\n",
    "import pandas as pd\n",
    "\n",
    "model = joblib.load(\"titanic_pipeline.pkl\")\n",
    "Pclass = st.selectbox(\"Pclass\", [1, 2, 3])\n",
    "Sex = st.selectbox(\"Sex\", [\"male\", \"female\"])\n",
    "Age = st.slider(\"Age\", 0, 100, 25)\n",
    "Fare = st.slider(\"Fare\", 0.0, 500.0, 32.0)\n",
    "Embarked = st.selectbox(\"Embarked\", [\"S\", \"C\", \"Q\"])\n",
    "\n",
    "if st.button(\"Predict\"):\n",
    "    X_new = pd.DataFrame([[Pclass, Sex, Age, Fare, Embarked]],\n",
    "                         columns=[\"Pclass\", \"Sex\", \"Age\", \"Fare\", \"Embarked\"])\n",
    "    pred = model.predict(X_new)\n",
    "    st.write(\"Prediction:\", \"Survived\" if pred[0] == 1 else \"Did not survive\")\n",
    "```\n",
    "\n",
    "👉 *Try running your Streamlit app locally.*"
   ]
  },
  {
   "cell_type": "code",
   "id": "6a5533f5",
   "metadata": {
    "ExecuteTime": {
     "end_time": "2025-07-01T12:43:07.611064Z",
     "start_time": "2025-07-01T12:42:58.903167Z"
    }
   },
   "source": [
    "import streamlit as st\n",
    "import pandas as pd\n",
    "import joblib\n",
    "\n",
    "# Charger le modèle entraîné avec FamilySize\n",
    "model = joblib.load(\"titanic_pipeline.pkl\")\n",
    "\n",
    "st.title(\"🚢 Titanic Survival Prediction (with FamilySize)\")\n",
    "\n",
    "# Champs d'entrée utilisateur\n",
    "Pclass = st.selectbox(\"Passenger Class (Pclass)\", [1, 2, 3])\n",
    "Sex = st.selectbox(\"Sex\", [\"male\", \"female\"])\n",
    "Age = st.slider(\"Age\", 0, 100, 30)\n",
    "Fare = st.slider(\"Fare\", 0.0, 500.0, 32.0)\n",
    "Embarked = st.selectbox(\"Port of Embarkation\", [\"S\", \"C\", \"Q\"])\n",
    "SibSp = st.number_input(\"Siblings/Spouses aboard (SibSp)\", min_value=0, max_value=10, value=0)\n",
    "Parch = st.number_input(\"Parents/Children aboard (Parch)\", min_value=0, max_value=10, value=0)\n",
    "\n",
    "# Calcul de FamilySize\n",
    "FamilySize = SibSp + Parch\n",
    "\n",
    "# Prédiction\n",
    "if st.button(\"Predict\"):\n",
    "    X_input = pd.DataFrame([[Pclass, Sex, Age, Fare, Embarked, FamilySize]],\n",
    "        columns=[\"Pclass\", \"Sex\", \"Age\", \"Fare\", \"Embarked\", \"FamilySize\"])\n",
    "    \n",
    "    prediction = model.predict(X_input)[0]\n",
    "    proba = model.predict_proba(X_input)[0][1]\n",
    "\n",
    "    if prediction == 1:\n",
    "        st.success(f\"🟢 Survived (probability: {proba:.2f})\")\n",
    "    else:\n",
    "        st.error(f\"🔴 Did not survive (probability: {proba:.2f})\")\n"
   ],
   "outputs": [
    {
     "name": "stderr",
     "output_type": "stream",
     "text": [
      "2025-07-01 14:43:07.604 \n",
      "  \u001B[33m\u001B[1mWarning:\u001B[0m to view this Streamlit app on a browser, run it with the following\n",
      "  command:\n",
      "\n",
      "    streamlit run C:\\Users\\thek7\\AppData\\Local\\Packages\\PythonSoftwareFoundation.Python.3.11_qbz5n2kfra8p0\\LocalCache\\local-packages\\Python311\\site-packages\\ipykernel_launcher.py [ARGUMENTS]\n"
     ]
    }
   ],
   "execution_count": 12
  },
  {
   "cell_type": "code",
   "id": "25c67fed",
   "metadata": {
    "ExecuteTime": {
     "end_time": "2025-07-01T12:43:07.620476Z",
     "start_time": "2025-07-01T12:43:07.614224Z"
    }
   },
   "source": [],
   "outputs": [],
   "execution_count": 12
  },
  {
   "cell_type": "markdown",
   "id": "ab42845d",
   "metadata": {},
   "source": []
  }
 ],
 "metadata": {
  "kernelspec": {
   "display_name": "Python 3",
   "language": "python",
   "name": "python3"
  },
  "language_info": {
   "codemirror_mode": {
    "name": "ipython",
    "version": 3
   },
   "file_extension": ".py",
   "mimetype": "text/x-python",
   "name": "python",
   "nbconvert_exporter": "python",
   "pygments_lexer": "ipython3",
   "version": "3.12.2"
  }
 },
 "nbformat": 4,
 "nbformat_minor": 5
}
