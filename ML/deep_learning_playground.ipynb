{
 "cells": [
  {
   "cell_type": "markdown",
   "id": "a37ec2f8",
   "metadata": {},
   "source": [
    "# Deep Learning Playground\n",
    "\n",
    "This notebook demonstrates:\n",
    "1. **MLP** for tabular data\n",
    "2. **CNN** for image data\n",
    "3. **Simple RNN**, **LSTM**, and **GRU** for sequence data\n",
    "\n",
    "Feel free to adjust hyper‑parameters and architectures to deepen your understanding!"
   ]
  },
  {
   "cell_type": "code",
   "id": "a51dede1",
   "metadata": {
    "jupyter": {
     "is_executing": true
    },
    "ExecuteTime": {
     "start_time": "2025-07-02T09:41:58.966649Z"
    }
   },
   "source": [
    "import numpy as np, pandas as pd, matplotlib.pyplot as plt, tensorflow as tf\n",
    "from tensorflow.keras import layers, models\n",
    "print('TensorFlow version:', tf.__version__)"
   ],
   "outputs": [],
   "execution_count": null
  },
  {
   "cell_type": "markdown",
   "id": "45d05ee0",
   "metadata": {},
   "source": [
    "## Part 1 – MLP on Titanic"
   ]
  },
  {
   "cell_type": "code",
   "id": "f50b4323",
   "metadata": {
    "jupyter": {
     "is_executing": true
    }
   },
   "source": [
    "import pandas as pd\n",
    "import numpy as np\n",
    "import matplotlib.pyplot as plt\n",
    "import seaborn as sns\n",
    "\n",
    "from sklearn.model_selection import train_test_split\n",
    "from sklearn.preprocessing import LabelEncoder\n",
    "from sklearn.metrics import classification_report, confusion_matrix\n",
    "\n",
    "from sklearn.tree import DecisionTreeClassifier, plot_tree\n",
    "from sklearn.ensemble import VotingClassifier, BaggingClassifier, RandomForestClassifier, GradientBoostingClassifier\n",
    "from sklearn.linear_model import LogisticRegression\n",
    "from sklearn.svm import SVC\n",
    "\n",
    "# Load dataset\n",
    "titanic = pd.read_csv(\"https://raw.githubusercontent.com/datasciencedojo/datasets/master/titanic.csv\")\n",
    "\n",
    "titanic = titanic.drop(['Cabin','Ticket','Name','Embarked'], axis=1)\n",
    "titanic['Age'].fillna(titanic['Age'].median(), inplace=True)\n",
    "titanic['Sex'] = titanic['Sex'].map({'male':0,'female':1})\n",
    "titanic.dropna(inplace=True)\n",
    "\n",
    "from sklearn.model_selection import train_test_split\n",
    "from sklearn.preprocessing import StandardScaler\n",
    "X = titanic[['Pclass','Sex','Age','Fare']].values\n",
    "y = titanic['Survived'].values\n",
    "scaler = StandardScaler()\n",
    "X_scaled = scaler.fit_transform(X)\n",
    "X_train, X_test, y_train, y_test = train_test_split(X_scaled, y, test_size=0.2, random_state=42)"
   ],
   "outputs": [],
   "execution_count": null
  },
  {
   "cell_type": "code",
   "id": "0d3a5977",
   "metadata": {
    "jupyter": {
     "is_executing": true
    }
   },
   "source": [
    "mlp = models.Sequential([layers.Dense(32, activation='relu', input_shape=(X_train.shape[1],)),\n",
    "                          layers.Dense(16, activation='relu'),\n",
    "                          layers.Dense(1, activation='sigmoid')])\n",
    "mlp.compile(optimizer='adam', loss='binary_crossentropy', metrics=['accuracy'])\n",
    "mlp.summary()"
   ],
   "outputs": [],
   "execution_count": null
  },
  {
   "cell_type": "code",
   "id": "d048fba1",
   "metadata": {
    "jupyter": {
     "is_executing": true
    }
   },
   "source": [
    "hist = mlp.fit(X_train, y_train, epochs=25, batch_size=32,\n",
    "                    validation_split=0.2, verbose=0)\n",
    "pd.DataFrame(hist.history).plot(figsize=(8,4)); plt.show()\n",
    "print('Test accuracy:', mlp.evaluate(X_test, y_test, verbose=0)[1])"
   ],
   "outputs": [],
   "execution_count": null
  },
  {
   "cell_type": "markdown",
   "id": "77d486dd",
   "metadata": {},
   "source": [
    "## Part 2 – CNN on MNIST"
   ]
  },
  {
   "cell_type": "code",
   "id": "bfdcedbe",
   "metadata": {
    "jupyter": {
     "is_executing": true
    }
   },
   "source": [
    "(X_train_m, y_train_m), (X_test_m, y_test_m) = tf.keras.datasets.mnist.load_data()\n",
    "X_train_m = X_train_m.astype('float32')/255.\n",
    "X_test_m = X_test_m.astype('float32')/255.\n",
    "X_train_m = X_train_m[...,None]\n",
    "X_test_m = X_test_m[...,None]"
   ],
   "outputs": [],
   "execution_count": null
  },
  {
   "cell_type": "code",
   "id": "8abbddc8",
   "metadata": {
    "jupyter": {
     "is_executing": true
    }
   },
   "source": [
    "cnn = models.Sequential([\n",
    "    layers.Conv2D(32,(3,3),activation='relu',input_shape=(28,28,1)),\n",
    "    layers.MaxPooling2D(2,2),\n",
    "    layers.Conv2D(64,(3,3),activation='relu'),\n",
    "    layers.MaxPooling2D(2,2),\n",
    "    layers.Flatten(),\n",
    "    layers.Dense(128,activation='relu'),\n",
    "    layers.Dense(10,activation='softmax')\n",
    "])\n",
    "cnn.compile(optimizer='adam', loss='sparse_categorical_crossentropy', metrics=['accuracy'])\n",
    "cnn.summary()"
   ],
   "outputs": [],
   "execution_count": null
  },
  {
   "cell_type": "code",
   "id": "bc8edc03",
   "metadata": {
    "jupyter": {
     "is_executing": true
    }
   },
   "source": [
    "cnn.fit(X_train_m, y_train_m, epochs=5, batch_size=128,\n",
    "        validation_split=0.1, verbose=2)\n",
    "print('Test accuracy:', cnn.evaluate(X_test_m, y_test_m, verbose=0)[1])"
   ],
   "outputs": [],
   "execution_count": null
  },
  {
   "cell_type": "markdown",
   "id": "756b0389",
   "metadata": {},
   "source": [
    "## Part 3 – RNNs for Time Series"
   ]
  },
  {
   "cell_type": "markdown",
   "id": "247510b9",
   "metadata": {},
   "source": [
    "We'll forecast a sine wave using previous 50 time‑steps."
   ]
  },
  {
   "cell_type": "code",
   "id": "e4f8c5cb",
   "metadata": {
    "jupyter": {
     "is_executing": true
    }
   },
   "source": [
    "t = np.linspace(0, 100, 10000)\n",
    "series = np.sin(t)\n",
    "window=50\n",
    "X_seq, y_seq = [], []\n",
    "for i in range(len(series)-window):\n",
    "    X_seq.append(series[i:i+window])\n",
    "    y_seq.append(series[i+window])\n",
    "X_seq, y_seq = np.array(X_seq)[...,None], np.array(y_seq)\n",
    "split=int(0.8*len(X_seq))\n",
    "X_train_s, X_test_s = X_seq[:split], X_seq[split:]\n",
    "y_train_s, y_test_s = y_seq[:split], y_seq[split:]\n",
    "print(X_train_s.shape)"
   ],
   "outputs": [],
   "execution_count": null
  },
  {
   "cell_type": "markdown",
   "id": "6426546b",
   "metadata": {},
   "source": [
    "### Simple RNN"
   ]
  },
  {
   "cell_type": "code",
   "id": "30425f29",
   "metadata": {
    "jupyter": {
     "is_executing": true
    }
   },
   "source": [
    "rnn = models.Sequential([layers.SimpleRNN(32, input_shape=(window,1)),\n",
    "                        layers.Dense(1)])\n",
    "rnn.compile(optimizer='adam', loss='mse')\n",
    "rnn.summary()\n",
    "rnn.fit(X_train_s, y_train_s, epochs=5, batch_size=128, validation_split=0.1, verbose=2)\n",
    "print('RNN Test MSE:', rnn.evaluate(X_test_s, y_test_s, verbose=0))"
   ],
   "outputs": [],
   "execution_count": null
  },
  {
   "cell_type": "markdown",
   "id": "b74192ee",
   "metadata": {},
   "source": [
    "### LSTM"
   ]
  },
  {
   "cell_type": "code",
   "id": "9a717676",
   "metadata": {
    "jupyter": {
     "is_executing": true
    }
   },
   "source": [
    "lstm = models.Sequential([layers.LSTM(64, input_shape=(window,1)),\n",
    "                         layers.Dense(1)])\n",
    "lstm.compile(optimizer='adam', loss='mse')\n",
    "lstm.summary()\n",
    "lstm.fit(X_train_s, y_train_s, epochs=5, batch_size=128, validation_split=0.1, verbose=2)\n",
    "print('LSTM Test MSE:', lstm.evaluate(X_test_s, y_test_s, verbose=0))"
   ],
   "outputs": [],
   "execution_count": null
  },
  {
   "cell_type": "markdown",
   "id": "7e2bafb2",
   "metadata": {},
   "source": [
    "### GRU"
   ]
  },
  {
   "cell_type": "code",
   "id": "b6cd814d",
   "metadata": {
    "jupyter": {
     "is_executing": true
    }
   },
   "source": [
    "gru = models.Sequential([layers.GRU(64, input_shape=(window,1)),\n",
    "                        layers.Dense(1)])\n",
    "gru.compile(optimizer='adam', loss='mse')\n",
    "gru.summary()\n",
    "gru.fit(X_train_s, y_train_s, epochs=5, batch_size=128, validation_split=0.1, verbose=2)\n",
    "print('GRU Test MSE:', gru.evaluate(X_test_s, y_test_s, verbose=0))"
   ],
   "outputs": [],
   "execution_count": null
  },
  {
   "cell_type": "markdown",
   "id": "c9bf9240",
   "metadata": {},
   "source": [
    "## Visualizing MNIST Data"
   ]
  },
  {
   "cell_type": "code",
   "id": "d4f72ae3",
   "metadata": {
    "jupyter": {
     "is_executing": true
    }
   },
   "source": [
    "import matplotlib.pyplot as plt\n",
    "from tensorflow.keras.datasets import mnist \n",
    "(X_train, y_train), (_, _) = mnist.load_data()\n",
    "\n",
    "fig, axes = plt.subplots(2, 5, figsize=(10, 4))\n",
    "for i, ax in enumerate(axes.flat):\n",
    "    ax.imshow(X_train[i], cmap='gray')\n",
    "    ax.set_title(f\"Label: {y_train[i]}\")\n",
    "    ax.axis('off')\n",
    "plt.tight_layout()\n",
    "plt.show()"
   ],
   "outputs": [],
   "execution_count": null
  },
  {
   "cell_type": "markdown",
   "id": "a0554bf1",
   "metadata": {},
   "source": [
    "## Visualizing Model Predictions"
   ]
  },
  {
   "cell_type": "code",
   "id": "d4451d81",
   "metadata": {
    "jupyter": {
     "is_executing": true
    }
   },
   "source": [
    "def plot_predictions(images, true_labels, pred_labels, num=10):\n",
    "    import numpy as np\n",
    "    plt.figure(figsize=(15, 4))\n",
    "    for i in range(num):\n",
    "        plt.subplot(2, num//2, i+1)\n",
    "        plt.imshow(images[i], cmap='gray')\n",
    "        color = 'green' if true_labels[i] == pred_labels[i] else 'red'\n",
    "        plt.title(f\"T: {true_labels[i]}, P: {pred_labels[i]}\", color=color)\n",
    "        plt.axis('off')\n",
    "    plt.tight_layout()\n",
    "    plt.show()"
   ],
   "outputs": [],
   "execution_count": null
  },
  {
   "cell_type": "markdown",
   "id": "27709902",
   "metadata": {},
   "source": [
    "## Exercises\n",
    "\n",
    "#### 1. Change the Activation Function\n",
    "Try using `tanh`, `sigmoid`, or `leaky_relu` instead of `relu`. How does it affect training?\n",
    "\n",
    "#### 2. Add Dropout\n",
    "Add `Dropout(0.3)` after dense or convolutional layers. Does it help reduce overfitting?\n",
    "\n",
    "#### 3. Train a CNN on a New Image Dataset\n",
    "Choose a public dataset: **CIFAR-10**,  and train a CNN model. You can load it using Keras:\n",
    "```python\n",
    "from tensorflow.keras.datasets import cifar10\n",
    "(X_train, y_train), (X_test, y_test) = cifar10.load_data()\n",
    "```\n",
    "\n",
    "### 4. Train an LSTM for Text Processing\n",
    "Choose a small text dataset (e.g., IMDB movie reviews from Keras).\n",
    "👉 Tokenize the data, pad the sequences, and use an `Embedding` + `LSTM` model to classify text.\n",
    "\n",
    "```python\n",
    "from tensorflow.keras.datasets import imdb\n",
    "from tensorflow.keras.preprocessing.sequence import pad_sequences\n",
    "from tensorflow.keras.models import Sequential\n",
    "from tensorflow.keras.layers import Embedding, LSTM, Dense\n",
    "\n",
    "# Load data\n",
    "(X_train, y_train), (X_test, y_test) = imdb.load_data(num_words=10000)\n",
    "X_train = pad_sequences(X_train, maxlen=100)\n",
    "X_test = pad_sequences(X_test, maxlen=100)\n",
    "```\n",
    "👉 Build and train a sequential model using `Embedding` + `LSTM` + `Dense`.\n",
    "\n",
    "---\n",
    " *Tip:* For each dataset, remember to normalize inputs, convert labels to one-hot encoding if needed, and evaluate accuracy and loss.\n"
   ]
  },
  {
   "cell_type": "code",
   "id": "d5b7a85c",
   "metadata": {
    "jupyter": {
     "is_executing": true
    }
   },
   "source": [
    "from tensorflow.keras.models import Sequential\n",
    "from tensorflow.keras.layers import Dense, Input, LeakyReLU\n",
    "\n",
    "model = Sequential([\n",
    "    Input(shape=(X_train.shape[1],)),\n",
    "    Dense(32),\n",
    "    LeakyReLU(negative_slope=0.1),   # Remplace relu\n",
    "    Dense(16, activation='tanh'),    # Essaye aussi sigmoid ici\n",
    "    Dense(1, activation='sigmoid')\n",
    "])\n",
    "model.compile(optimizer='adam', loss='binary_crossentropy', metrics=['accuracy'])\n",
    "\n"
   ],
   "outputs": [],
   "execution_count": null
  },
  {
   "cell_type": "code",
   "id": "30860e28",
   "metadata": {
    "jupyter": {
     "is_executing": true
    }
   },
   "source": [
    "from tensorflow.keras.layers import Dropout\n",
    "\n",
    "model = Sequential([\n",
    "    Input(shape=(X_train.shape[1],)),\n",
    "    Dense(32, activation='relu'),\n",
    "    Dropout(0.3),               # ← réduit le surapprentissage\n",
    "    Dense(16, activation='relu'),\n",
    "    Dropout(0.3),\n",
    "    Dense(1, activation='sigmoid')\n",
    "])\n"
   ],
   "outputs": [],
   "execution_count": null
  },
  {
   "cell_type": "markdown",
   "id": "07b3489a",
   "metadata": {},
   "source": []
  },
  {
   "cell_type": "code",
   "id": "d7a2ab70",
   "metadata": {
    "jupyter": {
     "is_executing": true
    }
   },
   "source": [
    "from tensorflow.keras import layers, models\n",
    "\n",
    "cnn = models.Sequential([\n",
    "    layers.Input(shape=(28,28,1)),\n",
    "    layers.Conv2D(32, (3,3), activation='relu'),\n",
    "    layers.MaxPooling2D(2,2),\n",
    "    layers.Dropout(0.3),\n",
    "    layers.Conv2D(64, (3,3), activation='relu'),\n",
    "    layers.MaxPooling2D(2,2),\n",
    "    layers.Flatten(),\n",
    "    layers.Dense(128, activation='relu'),\n",
    "    layers.Dropout(0.3),\n",
    "    layers.Dense(10, activation='softmax')\n",
    "])\n"
   ],
   "outputs": [],
   "execution_count": null
  },
  {
   "cell_type": "code",
   "id": "575f7db5",
   "metadata": {
    "jupyter": {
     "is_executing": true
    }
   },
   "source": [
    "from tensorflow.keras.datasets import cifar10\n",
    "\n",
    "(X_train, y_train), (X_test, y_test) = cifar10.load_data()\n",
    "X_train, X_test = X_train / 255.0, X_test / 255.0\n",
    "\n",
    "model = Sequential([\n",
    "    layers.Input(shape=(32,32,3)),\n",
    "    layers.Conv2D(32, (3,3), activation='relu'),\n",
    "    layers.MaxPooling2D(2,2),\n",
    "    layers.Conv2D(64, (3,3), activation='relu'),\n",
    "    layers.MaxPooling2D(2,2),\n",
    "    layers.Flatten(),\n",
    "    layers.Dense(128, activation='relu'),\n",
    "    layers.Dropout(0.3),\n",
    "    layers.Dense(10, activation='softmax')\n",
    "])\n",
    "\n",
    "model.compile(optimizer='adam', loss='sparse_categorical_crossentropy', metrics=['accuracy'])\n",
    "model.fit(X_train, y_train, epochs=10, batch_size=128, validation_split=0.1)\n"
   ],
   "outputs": [],
   "execution_count": null
  },
  {
   "cell_type": "code",
   "id": "3693a4c6",
   "metadata": {
    "jupyter": {
     "is_executing": true
    }
   },
   "source": [
    "from tensorflow.keras.datasets import imdb\n",
    "from tensorflow.keras.preprocessing.sequence import pad_sequences\n",
    "from tensorflow.keras.models import Sequential\n",
    "from tensorflow.keras.layers import Embedding, LSTM, Dense\n",
    "\n",
    "# Chargement et préparation\n",
    "(X_train, y_train), (X_test, y_test) = imdb.load_data(num_words=10000)\n",
    "X_train = pad_sequences(X_train, maxlen=100)\n",
    "X_test = pad_sequences(X_test, maxlen=100)\n",
    "\n",
    "# Modèle\n",
    "model = Sequential([\n",
    "    Embedding(input_dim=10000, output_dim=64, input_length=100),\n",
    "    LSTM(64),\n",
    "    Dense(1, activation='sigmoid')\n",
    "])\n",
    "\n",
    "model.compile(optimizer='adam', loss='binary_crossentropy', metrics=['accuracy'])\n",
    "model.fit(X_train, y_train, epochs=5, batch_size=128, validation_split=0.2)\n"
   ],
   "outputs": [],
   "execution_count": null
  },
  {
   "cell_type": "code",
   "id": "622e746c",
   "metadata": {
    "jupyter": {
     "is_executing": true
    }
   },
   "source": [
    "import pandas as pd\n",
    "import matplotlib.pyplot as plt\n",
    "\n",
    "def plot_history(hist):\n",
    "    pd.DataFrame(hist.history)[['loss', 'val_loss']].plot()\n",
    "    plt.title(\"Training vs Validation Loss\")\n",
    "    plt.xlabel(\"Epoch\")\n",
    "    plt.ylabel(\"Loss\")\n",
    "    plt.grid(True)\n",
    "    plt.show()\n"
   ],
   "outputs": [],
   "execution_count": null
  },
  {
   "cell_type": "code",
   "id": "3994fbdd",
   "metadata": {
    "jupyter": {
     "is_executing": true
    }
   },
   "source": [],
   "outputs": [],
   "execution_count": null
  }
 ],
 "metadata": {
  "kernelspec": {
   "display_name": "Python 3",
   "language": "python",
   "name": "python3"
  },
  "language_info": {
   "codemirror_mode": {
    "name": "ipython",
    "version": 3
   },
   "file_extension": ".py",
   "mimetype": "text/x-python",
   "name": "python",
   "nbconvert_exporter": "python",
   "pygments_lexer": "ipython3",
   "version": "3.9.13"
  }
 },
 "nbformat": 4,
 "nbformat_minor": 5
}
